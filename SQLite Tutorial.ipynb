{
 "cells": [
  {
   "cell_type": "markdown",
   "metadata": {},
   "source": [
    "## I. Source"
   ]
  },
  {
   "cell_type": "markdown",
   "metadata": {},
   "source": [
    "- Link Video: https://www.youtube.com/watch?v=byHcYRpMgI4\n",
    "- SQLite3 Documentation: https://docs.python.org/3/library/sqlite3.html"
   ]
  },
  {
   "cell_type": "markdown",
   "metadata": {},
   "source": [
    "## II. Import Module"
   ]
  },
  {
   "cell_type": "code",
   "execution_count": 1,
   "metadata": {},
   "outputs": [],
   "source": [
    "import sqlite3"
   ]
  },
  {
   "cell_type": "markdown",
   "metadata": {},
   "source": [
    "## III. Create Connection to Database"
   ]
  },
  {
   "cell_type": "markdown",
   "metadata": {},
   "source": [
    "- Create a connection with the Database by using the syntax below: <br>\n",
    ">```sqlite3.connect(<Name of the Database>)``` <br>\n",
    "\n",
    "- If the Database we put in does not exist, SQLite3 would create a new one inside the current directory\n",
    "     \n",
    "     \n"
   ]
  },
  {
   "cell_type": "code",
   "execution_count": 3,
   "metadata": {},
   "outputs": [],
   "source": [
    "# Create a Database named customer.db in the current directory\n",
    "conn = sqlite3.connect('customer.db')"
   ]
  },
  {
   "cell_type": "markdown",
   "metadata": {},
   "source": [
    "## IV. Create Table in new created Database"
   ]
  },
  {
   "cell_type": "markdown",
   "metadata": {},
   "source": [
    "### Step 1: Create a Cursor"
   ]
  },
  {
   "cell_type": "markdown",
   "metadata": {},
   "source": [
    "Cursor class is an instance using which you can **invoke methods** that execute SQLite statements, fetch data from the result sets of the queries.\n",
    "[(Link)](https://www.tutorialspoint.com/python_data_access/python_sqlite_cursor_object.htm)"
   ]
  },
  {
   "cell_type": "code",
   "execution_count": 4,
   "metadata": {},
   "outputs": [],
   "source": [
    "cursor = conn.cursor()"
   ]
  },
  {
   "cell_type": "markdown",
   "metadata": {},
   "source": [
    "### Step 2: Create Table"
   ]
  },
  {
   "cell_type": "markdown",
   "metadata": {},
   "source": [
    "To execute a SQL command, we use the syntax:\n",
    "> ```cursor.execute(\"\"\"SQL's Command\"\"\")```"
   ]
  },
  {
   "cell_type": "code",
   "execution_count": 11,
   "metadata": {},
   "outputs": [
    {
     "data": {
      "text/plain": [
       "<sqlite3.Cursor at 0x210f0b5c810>"
      ]
     },
     "execution_count": 11,
     "metadata": {},
     "output_type": "execute_result"
    }
   ],
   "source": [
    "# Create customers Table in the Customer Database created above\n",
    "cursor.execute(\"\"\"\n",
    "DROP TABLE IF EXISTS customers\"\"\")\n",
    "\n",
    "cursor.execute(\"\"\"\n",
    "CREATE TABLE customers (\n",
    "    First_Name VARCHAR NOT NULL,\n",
    "    Last_Name VARCHAR NOT NULL,\n",
    "    Email VARCHAR NOT NULL\n",
    ")\n",
    "\"\"\")"
   ]
  },
  {
   "cell_type": "markdown",
   "metadata": {},
   "source": [
    "### Step 3: Commit the changes"
   ]
  },
  {
   "cell_type": "markdown",
   "metadata": {},
   "source": [
    "- In case of having many connections to the database, in order for other to see our modifiys, we need to commit our changes with the syntax:\n",
    ">```connection.commit()``` <br>\n",
    "- This method ```commit()``` will confirm the current transaction. If you don’t call this method, anything you did since the last call to commit() is not visible from other database connections. If you wonder why you don’t see the data you’ve written to the database, please check you didn’t forget to call this method."
   ]
  },
  {
   "cell_type": "code",
   "execution_count": 13,
   "metadata": {},
   "outputs": [],
   "source": [
    "# Commit the above command\n",
    "conn.commit()"
   ]
  },
  {
   "cell_type": "markdown",
   "metadata": {},
   "source": [
    "### Step 4: Close the Connection"
   ]
  },
  {
   "cell_type": "markdown",
   "metadata": {},
   "source": [
    "- The last step would be closing the connection with our database. \n",
    "> ```connection.close()```\n",
    "- It is an optional step. However, remember that this does not automatically call ```commit()```. If you just close your database connection without calling ```commit()``` first, your changes will be lost!"
   ]
  },
  {
   "cell_type": "code",
   "execution_count": 16,
   "metadata": {},
   "outputs": [],
   "source": [
    "# Close the connection (Optional)\n",
    "conn.close()"
   ]
  },
  {
   "cell_type": "markdown",
   "metadata": {},
   "source": [
    "## V. Insert Data"
   ]
  },
  {
   "cell_type": "markdown",
   "metadata": {},
   "source": [
    "### A. Insert Single Row"
   ]
  },
  {
   "cell_type": "markdown",
   "metadata": {},
   "source": [
    "We could insert one single row or record at a time by using ```execute()``` command which allows us to perform one single SQL command per time "
   ]
  },
  {
   "cell_type": "code",
   "execution_count": 18,
   "metadata": {},
   "outputs": [],
   "source": [
    "# Create Connection with the Database\n",
    "conn = sqlite3.connect('customer.db')\n",
    "\n",
    "# Create a Cursor for performing SQL Command\n",
    "c = conn.cursor()"
   ]
  },
  {
   "cell_type": "code",
   "execution_count": 26,
   "metadata": {},
   "outputs": [
    {
     "data": {
      "text/plain": [
       "<sqlite3.Cursor at 0x210f02061f0>"
      ]
     },
     "execution_count": 26,
     "metadata": {},
     "output_type": "execute_result"
    }
   ],
   "source": [
    "# Insert Row in the the Customer Table\n",
    "c.execute(\"\"\"\n",
    "INSERT INTO customers VALUES ('Tien','Nguyen','tiennguyendm@gmail.com');\"\"\")\n",
    "\n",
    "c.execute(\"\"\"\n",
    "INSERT INTO customers VALUES ('Alan','Wake','alan.wake@gmail.com')\"\"\")\n",
    "\n",
    "c.execute(\"\"\"\n",
    "INSERT INTO customers VALUES ('Michel','Brown','michel.brown@gmail.com');\"\"\")"
   ]
  },
  {
   "cell_type": "code",
   "execution_count": 27,
   "metadata": {},
   "outputs": [],
   "source": [
    "# Commit the changes\n",
    "conn.commit()"
   ]
  },
  {
   "cell_type": "markdown",
   "metadata": {},
   "source": [
    "### B. Insert Multiple Rows at one time"
   ]
  },
  {
   "cell_type": "markdown",
   "metadata": {},
   "source": [
    "We could insert multiple rows or records at one time by using ```executemany()``` command which allows us to repeatedly execute a SQL statement."
   ]
  },
  {
   "cell_type": "markdown",
   "metadata": {},
   "source": [
    "#### Step 1: Create a List of Records"
   ]
  },
  {
   "cell_type": "code",
   "execution_count": 29,
   "metadata": {},
   "outputs": [],
   "source": [
    "many_customers = [\n",
    "    ('Wes','Brown','wes.brown@gmail.com'),\n",
    "    ('Steven','Hoala','steven.hoala@gmail.com'),\n",
    "    ('Dan','Chess','dan.chess@gmail.com')]"
   ]
  },
  {
   "cell_type": "markdown",
   "metadata": {},
   "source": [
    "#### Step 2: Using ```executemany()```"
   ]
  },
  {
   "cell_type": "markdown",
   "metadata": {},
   "source": [
    "- Syntax: <br>\n",
    "> ```cursor.executemany(\"\"\"SQL Commands\"\"\",List of Insert Values)```"
   ]
  },
  {
   "cell_type": "code",
   "execution_count": 30,
   "metadata": {},
   "outputs": [
    {
     "data": {
      "text/plain": [
       "<sqlite3.Cursor at 0x210f02061f0>"
      ]
     },
     "execution_count": 30,
     "metadata": {},
     "output_type": "execute_result"
    }
   ],
   "source": [
    "c.executemany(\"\"\"\n",
    "INSERT INTO customers VALUES (?,?,?)\"\"\",many_customers)"
   ]
  },
  {
   "cell_type": "markdown",
   "metadata": {},
   "source": [
    "- ```(?,?,?)``` in SQL means a Placeholder"
   ]
  },
  {
   "cell_type": "code",
   "execution_count": 32,
   "metadata": {},
   "outputs": [],
   "source": [
    "# Commit changes\n",
    "conn.commit()"
   ]
  },
  {
   "cell_type": "markdown",
   "metadata": {},
   "source": [
    "## VI. Query and Fetch the Database"
   ]
  },
  {
   "cell_type": "code",
   "execution_count": 60,
   "metadata": {},
   "outputs": [
    {
     "data": {
      "text/plain": [
       "<sqlite3.Cursor at 0x210f02061f0>"
      ]
     },
     "execution_count": 60,
     "metadata": {},
     "output_type": "execute_result"
    }
   ],
   "source": [
    "# Query the Database\n",
    "c.execute(\"\"\"\n",
    "SELECT * FROM customers\"\"\")"
   ]
  },
  {
   "cell_type": "code",
   "execution_count": 39,
   "metadata": {},
   "outputs": [
    {
     "name": "stdout",
     "output_type": "stream",
     "text": [
      "[('Tien', 'Nguyen', 'tiennguyendm@gmail.com'), ('Tien', 'Nguyen', 'tiennguyendm@gmail.com'), ('Alan', 'Wake', 'alan.wake@gmail.com'), ('Michel', 'Brown', 'michel.brown@gmail.com'), ('Wes', 'Brown', 'wes.brown@gmail.com'), ('Steven', 'Hoala', 'steven.hoala@gmail.com'), ('Dan', 'Chess', 'dan.chess@gmail.com')]\n"
     ]
    }
   ],
   "source": [
    "# 1. See all results\n",
    "print(c.fetchall())"
   ]
  },
  {
   "cell_type": "code",
   "execution_count": 43,
   "metadata": {},
   "outputs": [
    {
     "name": "stdout",
     "output_type": "stream",
     "text": [
      "('Tien', 'Nguyen', 'tiennguyendm@gmail.com')\n"
     ]
    }
   ],
   "source": [
    "# 2. See the the first result only\n",
    "print(c.fetchone())"
   ]
  },
  {
   "cell_type": "code",
   "execution_count": 50,
   "metadata": {},
   "outputs": [
    {
     "name": "stdout",
     "output_type": "stream",
     "text": [
      "[('Alan', 'Wake', 'alan.wake@gmail.com'), ('Michel', 'Brown', 'michel.brown@gmail.com'), ('Wes', 'Brown', 'wes.brown@gmail.com')]\n"
     ]
    }
   ],
   "source": [
    "# 3. See selected numbers of rows \n",
    "print(c.fetchmany(3))"
   ]
  },
  {
   "cell_type": "markdown",
   "metadata": {},
   "source": [
    "## VII. Format the Query Result"
   ]
  },
  {
   "cell_type": "markdown",
   "metadata": {},
   "source": [
    "#### A. Get all column names in a Table"
   ]
  },
  {
   "cell_type": "code",
   "execution_count": 103,
   "metadata": {},
   "outputs": [],
   "source": [
    "# Execute SQLite Command for pulling out all Column's Attributes\n",
    "columns = c.execute(\"\"\"\n",
    "PRAGMA table_info(customers);\"\"\")"
   ]
  },
  {
   "cell_type": "code",
   "execution_count": 98,
   "metadata": {},
   "outputs": [
    {
     "name": "stdout",
     "output_type": "stream",
     "text": [
      "(0, 'First_Name', 'VARCHAR', 1, None, 0)\n",
      "(1, 'Last_Name', 'VARCHAR', 1, None, 0)\n",
      "(2, 'Email', 'VARCHAR', 1, None, 0)\n"
     ]
    }
   ],
   "source": [
    "# See all the attributes\n",
    "for i in columns:\n",
    "    print(i)"
   ]
  },
  {
   "cell_type": "code",
   "execution_count": 104,
   "metadata": {},
   "outputs": [
    {
     "data": {
      "text/plain": [
       "['First_Name', 'Last_Name', 'Email']"
      ]
     },
     "execution_count": 104,
     "metadata": {},
     "output_type": "execute_result"
    }
   ],
   "source": [
    "# Just take the column names\n",
    "columns_name = [i[1] for i in columns]\n",
    "columns_name"
   ]
  },
  {
   "cell_type": "markdown",
   "metadata": {},
   "source": [
    "#### B. Slicing and Format with Queried Result"
   ]
  },
  {
   "cell_type": "code",
   "execution_count": 61,
   "metadata": {},
   "outputs": [],
   "source": [
    "result = c.fetchall()"
   ]
  },
  {
   "cell_type": "code",
   "execution_count": 74,
   "metadata": {},
   "outputs": [
    {
     "data": {
      "text/plain": [
       "('Tien', 'Nguyen', 'tiennguyendm@gmail.com')"
      ]
     },
     "execution_count": 74,
     "metadata": {},
     "output_type": "execute_result"
    }
   ],
   "source": [
    "# Slicing the Queried Result\n",
    "result[0]"
   ]
  },
  {
   "cell_type": "code",
   "execution_count": 64,
   "metadata": {},
   "outputs": [
    {
     "data": {
      "text/plain": [
       "'Nguyen'"
      ]
     },
     "execution_count": 64,
     "metadata": {},
     "output_type": "execute_result"
    }
   ],
   "source": [
    "result[0][1]"
   ]
  },
  {
   "cell_type": "code",
   "execution_count": 79,
   "metadata": {},
   "outputs": [
    {
     "name": "stdout",
     "output_type": "stream",
     "text": [
      "NAME \t\tEMAIL\n",
      "------\t\t------\n",
      "Tien Nguyen\ttiennguyendm@gmail.com\n",
      "Tien Nguyen\ttiennguyendm@gmail.com\n",
      "Alan Wake\talan.wake@gmail.com\n",
      "Michel Brown\tmichel.brown@gmail.com\n",
      "Wes Brown\twes.brown@gmail.com\n",
      "Steven Hoala\tsteven.hoala@gmail.com\n",
      "Dan Chess\tdan.chess@gmail.com\n"
     ]
    }
   ],
   "source": [
    "# Apply Loop for the Queried Result\n",
    "print('NAME ' + '\\t\\t' + 'EMAIL')\n",
    "print('------' + '\\t\\t' + '------')\n",
    "for i in result:\n",
    "    print(i[0]+' ' + i[1]+'\\t'+i[2])"
   ]
  },
  {
   "cell_type": "code",
   "execution_count": 106,
   "metadata": {},
   "outputs": [
    {
     "data": {
      "text/html": [
       "<div>\n",
       "<style scoped>\n",
       "    .dataframe tbody tr th:only-of-type {\n",
       "        vertical-align: middle;\n",
       "    }\n",
       "\n",
       "    .dataframe tbody tr th {\n",
       "        vertical-align: top;\n",
       "    }\n",
       "\n",
       "    .dataframe thead th {\n",
       "        text-align: right;\n",
       "    }\n",
       "</style>\n",
       "<table border=\"1\" class=\"dataframe\">\n",
       "  <thead>\n",
       "    <tr style=\"text-align: right;\">\n",
       "      <th></th>\n",
       "      <th>First_Name</th>\n",
       "      <th>Last_Name</th>\n",
       "      <th>Email</th>\n",
       "    </tr>\n",
       "  </thead>\n",
       "  <tbody>\n",
       "    <tr>\n",
       "      <th>0</th>\n",
       "      <td>Tien</td>\n",
       "      <td>Nguyen</td>\n",
       "      <td>tiennguyendm@gmail.com</td>\n",
       "    </tr>\n",
       "    <tr>\n",
       "      <th>1</th>\n",
       "      <td>Tien</td>\n",
       "      <td>Nguyen</td>\n",
       "      <td>tiennguyendm@gmail.com</td>\n",
       "    </tr>\n",
       "    <tr>\n",
       "      <th>2</th>\n",
       "      <td>Alan</td>\n",
       "      <td>Wake</td>\n",
       "      <td>alan.wake@gmail.com</td>\n",
       "    </tr>\n",
       "    <tr>\n",
       "      <th>3</th>\n",
       "      <td>Michel</td>\n",
       "      <td>Brown</td>\n",
       "      <td>michel.brown@gmail.com</td>\n",
       "    </tr>\n",
       "    <tr>\n",
       "      <th>4</th>\n",
       "      <td>Wes</td>\n",
       "      <td>Brown</td>\n",
       "      <td>wes.brown@gmail.com</td>\n",
       "    </tr>\n",
       "    <tr>\n",
       "      <th>5</th>\n",
       "      <td>Steven</td>\n",
       "      <td>Hoala</td>\n",
       "      <td>steven.hoala@gmail.com</td>\n",
       "    </tr>\n",
       "    <tr>\n",
       "      <th>6</th>\n",
       "      <td>Dan</td>\n",
       "      <td>Chess</td>\n",
       "      <td>dan.chess@gmail.com</td>\n",
       "    </tr>\n",
       "  </tbody>\n",
       "</table>\n",
       "</div>"
      ],
      "text/plain": [
       "  First_Name Last_Name                   Email\n",
       "0       Tien    Nguyen  tiennguyendm@gmail.com\n",
       "1       Tien    Nguyen  tiennguyendm@gmail.com\n",
       "2       Alan      Wake     alan.wake@gmail.com\n",
       "3     Michel     Brown  michel.brown@gmail.com\n",
       "4        Wes     Brown     wes.brown@gmail.com\n",
       "5     Steven     Hoala  steven.hoala@gmail.com\n",
       "6        Dan     Chess     dan.chess@gmail.com"
      ]
     },
     "execution_count": 106,
     "metadata": {},
     "output_type": "execute_result"
    }
   ],
   "source": [
    "# Format to a Database\n",
    "import pandas as pd\n",
    "df = pd.DataFrame(result,columns=columns_name)\n",
    "df"
   ]
  },
  {
   "cell_type": "markdown",
   "metadata": {},
   "source": [
    "## VIII. Primary Key"
   ]
  },
  {
   "cell_type": "markdown",
   "metadata": {},
   "source": [
    "#### Select rowid or Primary Key in the Queried Result"
   ]
  },
  {
   "cell_type": "code",
   "execution_count": 107,
   "metadata": {},
   "outputs": [],
   "source": [
    "full_results = c.execute(\"\"\"\n",
    "SELECT rowid,* FROM customers\"\"\")"
   ]
  },
  {
   "cell_type": "code",
   "execution_count": 108,
   "metadata": {},
   "outputs": [
    {
     "name": "stdout",
     "output_type": "stream",
     "text": [
      "(1, 'Tien', 'Nguyen', 'tiennguyendm@gmail.com')\n",
      "(2, 'Tien', 'Nguyen', 'tiennguyendm@gmail.com')\n",
      "(3, 'Alan', 'Wake', 'alan.wake@gmail.com')\n",
      "(4, 'Michel', 'Brown', 'michel.brown@gmail.com')\n",
      "(5, 'Wes', 'Brown', 'wes.brown@gmail.com')\n",
      "(6, 'Steven', 'Hoala', 'steven.hoala@gmail.com')\n",
      "(7, 'Dan', 'Chess', 'dan.chess@gmail.com')\n"
     ]
    }
   ],
   "source": [
    "for i in full_results:\n",
    "    print(i)"
   ]
  },
  {
   "cell_type": "markdown",
   "metadata": {},
   "source": [
    "## IX. Using Where Clause"
   ]
  },
  {
   "cell_type": "code",
   "execution_count": 111,
   "metadata": {},
   "outputs": [],
   "source": [
    "filtered_result = c.execute(\"\"\"\n",
    "SELECT * FROM customers\n",
    "WHERE First_Name LIKE 'T%'\"\"\")"
   ]
  },
  {
   "cell_type": "code",
   "execution_count": 112,
   "metadata": {},
   "outputs": [
    {
     "name": "stdout",
     "output_type": "stream",
     "text": [
      "('Tien', 'Nguyen', 'tiennguyendm@gmail.com')\n",
      "('Tien', 'Nguyen', 'tiennguyendm@gmail.com')\n"
     ]
    }
   ],
   "source": [
    "for i in filtered_result:\n",
    "    print(i)"
   ]
  },
  {
   "cell_type": "code",
   "execution_count": 113,
   "metadata": {},
   "outputs": [
    {
     "name": "stdout",
     "output_type": "stream",
     "text": [
      "('Tien', 'tiennguyendm@gmail.com')\n",
      "('Tien', 'tiennguyendm@gmail.com')\n",
      "('Alan', 'alan.wake@gmail.com')\n",
      "('Michel', 'michel.brown@gmail.com')\n",
      "('Wes', 'wes.brown@gmail.com')\n",
      "('Steven', 'steven.hoala@gmail.com')\n",
      "('Dan', 'dan.chess@gmail.com')\n"
     ]
    }
   ],
   "source": [
    "filtered_result2 = c.execute(\"\"\"\n",
    "SELECT First_Name, Email FROM customers\"\"\")\n",
    "for i in filtered_result2:\n",
    "    print(i)"
   ]
  },
  {
   "cell_type": "markdown",
   "metadata": {},
   "source": [
    "## X. Update Record"
   ]
  },
  {
   "cell_type": "code",
   "execution_count": 115,
   "metadata": {},
   "outputs": [
    {
     "data": {
      "text/plain": [
       "<sqlite3.Cursor at 0x210f02061f0>"
      ]
     },
     "execution_count": 115,
     "metadata": {},
     "output_type": "execute_result"
    }
   ],
   "source": [
    "c.execute(\n",
    "\"\"\"\n",
    "UPDATE customers SET First_Name='Hoo' WHERE Last_Name = 'Chess' \n",
    "\"\"\")"
   ]
  },
  {
   "cell_type": "code",
   "execution_count": 116,
   "metadata": {},
   "outputs": [],
   "source": [
    "conn.commit()"
   ]
  },
  {
   "cell_type": "code",
   "execution_count": 117,
   "metadata": {},
   "outputs": [
    {
     "name": "stdout",
     "output_type": "stream",
     "text": [
      "(1, 'Tien', 'Nguyen', 'tiennguyendm@gmail.com')\n",
      "(2, 'Tien', 'Nguyen', 'tiennguyendm@gmail.com')\n",
      "(3, 'Alan', 'Wake', 'alan.wake@gmail.com')\n",
      "(4, 'Michel', 'Brown', 'michel.brown@gmail.com')\n",
      "(5, 'Wes', 'Brown', 'wes.brown@gmail.com')\n",
      "(6, 'Steven', 'Hoala', 'steven.hoala@gmail.com')\n",
      "(7, 'Hoo', 'Chess', 'dan.chess@gmail.com')\n"
     ]
    }
   ],
   "source": [
    "new_result = c.execute(\"\"\"\n",
    "SELECT rowid,* FROM customers\"\"\")\n",
    "for i in new_result:\n",
    "    print(i)"
   ]
  },
  {
   "cell_type": "markdown",
   "metadata": {},
   "source": [
    "## XI. Delete Record"
   ]
  },
  {
   "cell_type": "code",
   "execution_count": 118,
   "metadata": {},
   "outputs": [
    {
     "data": {
      "text/plain": [
       "<sqlite3.Cursor at 0x210f02061f0>"
      ]
     },
     "execution_count": 118,
     "metadata": {},
     "output_type": "execute_result"
    }
   ],
   "source": [
    "c.execute(\"\"\"\n",
    "DELETE FROM customers WHERE rowid=7\"\"\")"
   ]
  },
  {
   "cell_type": "code",
   "execution_count": 119,
   "metadata": {},
   "outputs": [],
   "source": [
    "conn.commit()"
   ]
  },
  {
   "cell_type": "code",
   "execution_count": 120,
   "metadata": {},
   "outputs": [
    {
     "name": "stdout",
     "output_type": "stream",
     "text": [
      "(1, 'Tien', 'Nguyen', 'tiennguyendm@gmail.com')\n",
      "(2, 'Tien', 'Nguyen', 'tiennguyendm@gmail.com')\n",
      "(3, 'Alan', 'Wake', 'alan.wake@gmail.com')\n",
      "(4, 'Michel', 'Brown', 'michel.brown@gmail.com')\n",
      "(5, 'Wes', 'Brown', 'wes.brown@gmail.com')\n",
      "(6, 'Steven', 'Hoala', 'steven.hoala@gmail.com')\n"
     ]
    }
   ],
   "source": [
    "deleted_result = c.execute(\"\"\"\n",
    "SELECT rowid,* FROM customers\"\"\")\n",
    "for i in new_result:\n",
    "    print(i)"
   ]
  },
  {
   "cell_type": "markdown",
   "metadata": {},
   "source": [
    "## XII. Order the Result"
   ]
  },
  {
   "cell_type": "code",
   "execution_count": 121,
   "metadata": {
    "scrolled": true
   },
   "outputs": [
    {
     "name": "stdout",
     "output_type": "stream",
     "text": [
      "(6, 'Steven', 'Hoala', 'steven.hoala@gmail.com')\n",
      "(5, 'Wes', 'Brown', 'wes.brown@gmail.com')\n",
      "(4, 'Michel', 'Brown', 'michel.brown@gmail.com')\n",
      "(3, 'Alan', 'Wake', 'alan.wake@gmail.com')\n",
      "(2, 'Tien', 'Nguyen', 'tiennguyendm@gmail.com')\n",
      "(1, 'Tien', 'Nguyen', 'tiennguyendm@gmail.com')\n"
     ]
    }
   ],
   "source": [
    "ordered_result = c.execute(\"\"\"\n",
    "SELECT rowid,* FROM customers ORDER BY rowid DESC\"\"\")\n",
    "for i in ordered_result:\n",
    "    print(i)"
   ]
  },
  {
   "cell_type": "code",
   "execution_count": 122,
   "metadata": {},
   "outputs": [
    {
     "name": "stdout",
     "output_type": "stream",
     "text": [
      "(5, 'Wes', 'Brown', 'wes.brown@gmail.com')\n",
      "(1, 'Tien', 'Nguyen', 'tiennguyendm@gmail.com')\n",
      "(2, 'Tien', 'Nguyen', 'tiennguyendm@gmail.com')\n",
      "(6, 'Steven', 'Hoala', 'steven.hoala@gmail.com')\n",
      "(4, 'Michel', 'Brown', 'michel.brown@gmail.com')\n",
      "(3, 'Alan', 'Wake', 'alan.wake@gmail.com')\n"
     ]
    }
   ],
   "source": [
    "name_ordered_result = c.execute(\"\"\"\n",
    "SELECT rowid,* FROM customers ORDER BY First_Name DESC\"\"\")\n",
    "for i in name_ordered_result:\n",
    "    print(i)"
   ]
  },
  {
   "cell_type": "markdown",
   "metadata": {},
   "source": [
    "## XIII. And/Or"
   ]
  },
  {
   "cell_type": "code",
   "execution_count": 124,
   "metadata": {},
   "outputs": [
    {
     "name": "stdout",
     "output_type": "stream",
     "text": [
      "(2, 'Tien', 'Nguyen', 'tiennguyendm@gmail.com')\n",
      "(1, 'Tien', 'Nguyen', 'tiennguyendm@gmail.com')\n"
     ]
    }
   ],
   "source": [
    "And_result = c.execute(\"\"\"\n",
    "SELECT rowid,* FROM customers \n",
    "WHERE First_Name Like 'T%' AND Last_Name Like 'N%'\n",
    "ORDER BY rowid DESC\"\"\")\n",
    "for i in And_result:\n",
    "    print(i)"
   ]
  },
  {
   "cell_type": "code",
   "execution_count": 125,
   "metadata": {},
   "outputs": [
    {
     "name": "stdout",
     "output_type": "stream",
     "text": [
      "(5, 'Wes', 'Brown', 'wes.brown@gmail.com')\n",
      "(4, 'Michel', 'Brown', 'michel.brown@gmail.com')\n",
      "(2, 'Tien', 'Nguyen', 'tiennguyendm@gmail.com')\n",
      "(1, 'Tien', 'Nguyen', 'tiennguyendm@gmail.com')\n"
     ]
    }
   ],
   "source": [
    "Or_result = c.execute(\"\"\"\n",
    "SELECT rowid,* FROM customers \n",
    "WHERE First_Name Like 'T%' OR Last_Name Like 'Br%'\n",
    "ORDER BY rowid DESC\"\"\")\n",
    "for i in And_result:\n",
    "    print(i)"
   ]
  }
 ],
 "metadata": {
  "kernelspec": {
   "display_name": "Python 3",
   "language": "python",
   "name": "python3"
  },
  "language_info": {
   "codemirror_mode": {
    "name": "ipython",
    "version": 3
   },
   "file_extension": ".py",
   "mimetype": "text/x-python",
   "name": "python",
   "nbconvert_exporter": "python",
   "pygments_lexer": "ipython3",
   "version": "3.8.5"
  }
 },
 "nbformat": 4,
 "nbformat_minor": 4
}
